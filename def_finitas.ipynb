{
 "cells": [
  {
   "cell_type": "code",
   "execution_count": 37,
   "metadata": {},
   "outputs": [],
   "source": [
    "from Classes import *\n",
    "from funcoes import *"
   ]
  },
  {
   "cell_type": "code",
   "execution_count": 38,
   "metadata": {},
   "outputs": [],
   "source": [
    "# Dimensões da seção retangular\n",
    "b = 0.2  # em metros\n",
    "h = 0.5  # em metros"
   ]
  },
  {
   "cell_type": "code",
   "execution_count": 39,
   "metadata": {},
   "outputs": [],
   "source": [
    "# Posições extremas da seção transversal\n",
    "yt = h / 2\n",
    "yb = -h / 2"
   ]
  },
  {
   "cell_type": "code",
   "execution_count": 40,
   "metadata": {},
   "outputs": [],
   "source": [
    "m = 10 #Número de elementos na diferença finita\n",
    "L = 5 #Comprimento do pilar"
   ]
  },
  {
   "cell_type": "code",
   "execution_count": 41,
   "metadata": {},
   "outputs": [],
   "source": [
    "# Definição do tipo de concreto\n",
    "concreto = Concreto(20)"
   ]
  },
  {
   "cell_type": "code",
   "execution_count": 42,
   "metadata": {},
   "outputs": [],
   "source": [
    "# Definição do tipo de aço\n",
    "steel = Aco(50)  # CA50, colocar , 50 mas o aço aguenta 500 Mpa\n",
    "\n",
    "# Posição das camadas de aço\n",
    "dt = 0.025  # distância da armadura à borda da seção\n",
    "yc = [h / 2 - dt, -h / 2 + dt]  # posição das camadas de aço\n",
    "n_barras = np.array([3, 3])  # número de barras por camada\n",
    "\n",
    "omega=0.4 #Adimensional da área de aço total na estrutura\n",
    "\n",
    "Area_num = omega * b * h * concreto.sigma_cd / steel.fyd #Área de aço an estrutura em m²\n",
    "\n",
    "Area = [(Area_num) / 2, (Area_num) / 2]"
   ]
  },
  {
   "cell_type": "code",
   "execution_count": 43,
   "metadata": {},
   "outputs": [],
   "source": [
    "# Diagrama no espaço de deformações da seção\n",
    "dig = Diagrama(concreto, yc, yt, yb, h)\n",
    "\n",
    "# Cálculo da Verificação via Newton Raphson\n",
    "nr = NewtonRaphson(10 ** -10, 1000, 10 ** -10, [0, 0],2)"
   ]
  },
  {
   "cell_type": "code",
   "execution_count": 44,
   "metadata": {},
   "outputs": [],
   "source": [
    "# Adimensionais\n",
    "nu = 0.3 #Adimensional do esforço solicitante normal\n",
    "mi = 0.1 #Adimensional do momento fletor solicitante\n",
    "\n",
    "# Verificação por diferenças finitas\n",
    "M_0 = concreto.sigma_cd * b * h * h * mi\n",
    "N_0 = concreto.sigma_cd * b * h * nu"
   ]
  },
  {
   "cell_type": "code",
   "execution_count": 45,
   "metadata": {},
   "outputs": [],
   "source": [
    "f_inic = 0\n",
    "tol_f = 10 ** -10\n",
    "sol = Dif_fin_ver(nr, concreto, steel, yc, Area, b, h, yt, yb, m, f_inic, L, N_0, M_0, tol_f)"
   ]
  },
  {
   "cell_type": "code",
   "execution_count": 46,
   "metadata": {},
   "outputs": [
    {
     "name": "stdout",
     "output_type": "stream",
     "text": [
      "Não Existe Solução!\n",
      "Secção inicial não aguentou as solicitações\n"
     ]
    }
   ],
   "source": [
    "d=dig.diagrama_def(12000)\n",
    "N=np.zeros(len(d))\n",
    "M=np.zeros(len(d))\n",
    "for i in range(0,len(d)):\n",
    "    [N[i],M[i]]=vetor_esfor(concreto, b, h, yt, yb, steel, yc, Area, d[i,1], d[i,0])\n",
    "[Nt,Mt,f]=Plot_Trajetoria_eq(nr, concreto, steel, yc, Area, b, h, yt, yb, m, f_inic, L, tol_f,1/3,0.001,0.6)"
   ]
  },
  {
   "cell_type": "code",
   "execution_count": 47,
   "metadata": {},
   "outputs": [
    {
     "data": {
      "image/png": "[encoded data removed]",
      "text/plain": [
       "<Figure size 640x480 with 1 Axes>"
      ]
     },
     "metadata": {},
     "output_type": "display_data"
    }
   ],
   "source": [
    "plt.plot(N[:]/(concreto.sigma_cd * b * h),M[:]/(concreto.sigma_cd * b * h * h ), '--')\n",
    "plt.plot(Nt[:]/(concreto.sigma_cd * b * h),(Mt[:] + Nt[:]*f[:])/(concreto.sigma_cd * b * h * h ), '*')\n",
    "plt.grid(color='black')\n",
    "plt.xlim(left=0)\n",
    "plt.ylim(bottom=0)\n",
    "plt.show()"
   ]
  },
  {
   "cell_type": "code",
   "execution_count": 48,
   "metadata": {},
   "outputs": [
    {
     "name": "stdout",
     "output_type": "stream",
     "text": [
      "Não Existe Solução!\n",
      "Secção inicial não aguentou as solicitações\n",
      "Não Existe Solução!\n",
      "Secção inicial não aguentou as solicitações\n",
      "Não Existe Solução!\n",
      "Secção inicial não aguentou as solicitações\n",
      "Não Existe Solução!\n",
      "Secção inicial não aguentou as solicitações\n",
      "Não Existe Solução!\n",
      "Secção inicial não aguentou as solicitações\n",
      "Não Existe Solução!\n",
      "Secção inicial não aguentou as solicitações\n",
      "Não Existe Solução!\n",
      "Secção 8 não aguentou as solicitações\n",
      "Não Existe Solução!\n",
      "Secção inicial não aguentou as solicitações\n",
      "Não Existe Solução!\n",
      "Secção inicial não aguentou as solicitações\n",
      "Não Existe Solução!\n",
      "Secção inicial não aguentou as solicitações\n",
      "Não Existe Solução!\n",
      "Secção inicial não aguentou as solicitações\n",
      "Não Existe Solução!\n",
      "Secção inicial não aguentou as solicitações\n",
      "Não Existe Solução!\n",
      "Secção inicial não aguentou as solicitações\n",
      "Não Existe Solução!\n",
      "Secção inicial não aguentou as solicitações\n",
      "Não Existe Solução!\n",
      "Secção inicial não aguentou as solicitações\n",
      "Não Existe Solução!\n",
      "Secção inicial não aguentou as solicitações\n",
      "Não Existe Solução!\n",
      "Secção inicial não aguentou as solicitações\n",
      "Não Existe Solução!\n",
      "Secção inicial não aguentou as solicitações\n",
      "Não Existe Solução!\n",
      "Secção inicial não aguentou as solicitações\n",
      "Não Existe Solução!\n",
      "Secção inicial não aguentou as solicitações\n",
      "Não Existe Solução!\n",
      "Secção inicial não aguentou as solicitações\n",
      "Não Existe Solução!\n",
      "Secção inicial não aguentou as solicitações\n",
      "Não Existe Solução!\n",
      "Secção inicial não aguentou as solicitações\n",
      "Não Existe Solução!\n",
      "Secção inicial não aguentou as solicitações\n",
      "Não Existe Solução!\n",
      "Secção inicial não aguentou as solicitações\n",
      "Não Existe Solução!\n",
      "Secção inicial não aguentou as solicitações\n",
      "Não Existe Solução!\n",
      "Secção inicial não aguentou as solicitações\n",
      "Não Existe Solução!\n",
      "Secção inicial não aguentou as solicitações\n",
      "Não Existe Solução!\n",
      "Secção inicial não aguentou as solicitações\n",
      "Não Existe Solução!\n",
      "Secção inicial não aguentou as solicitações\n",
      "Não Existe Solução!\n",
      "Secção inicial não aguentou as solicitações\n",
      "Não Existe Solução!\n",
      "Secção inicial não aguentou as solicitações\n",
      "Não Existe Solução!\n",
      "Secção inicial não aguentou as solicitações\n",
      "Não Existe Solução!\n",
      "Secção inicial não aguentou as solicitações\n",
      "Não Existe Solução!\n",
      "Secção inicial não aguentou as solicitações\n",
      "Não Existe Solução!\n",
      "Secção inicial não aguentou as solicitações\n",
      "Não Existe Solução!\n",
      "Secção inicial não aguentou as solicitações\n",
      "Não Existe Solução!\n",
      "Secção inicial não aguentou as solicitações\n",
      "Não Existe Solução!\n",
      "Secção inicial não aguentou as solicitações\n",
      "Não Existe Solução!\n",
      "Secção inicial não aguentou as solicitações\n",
      "Não Existe Solução!\n",
      "Secção inicial não aguentou as solicitações\n",
      "Não Existe Solução!\n",
      "Secção inicial não aguentou as solicitações\n",
      "Não Existe Solução!\n",
      "Secção inicial não aguentou as solicitações\n",
      "Não Existe Solução!\n",
      "Secção inicial não aguentou as solicitações\n",
      "Não Existe Solução!\n",
      "Secção inicial não aguentou as solicitações\n",
      "Não Existe Solução!\n",
      "Secção inicial não aguentou as solicitações\n",
      "Não Existe Solução!\n",
      "Secção inicial não aguentou as solicitações\n",
      "Não Existe Solução!\n",
      "Secção inicial não aguentou as solicitações\n",
      "Não Existe Solução!\n",
      "Secção inicial não aguentou as solicitações\n",
      "Não Existe Solução!\n",
      "Secção inicial não aguentou as solicitações\n",
      "Não Existe Solução!\n",
      "Secção inicial não aguentou as solicitações\n",
      "Não Existe Solução!\n",
      "Secção inicial não aguentou as solicitações\n",
      "Não Existe Solução!\n",
      "Secção inicial não aguentou as solicitações\n",
      "Não Existe Solução!\n",
      "Secção inicial não aguentou as solicitações\n",
      "Não Existe Solução!\n",
      "Secção inicial não aguentou as solicitações\n",
      "Não Existe Solução!\n",
      "Secção inicial não aguentou as solicitações\n",
      "Não Existe Solução!\n",
      "Secção inicial não aguentou as solicitações\n",
      "Não Existe Solução!\n",
      "Secção inicial não aguentou as solicitações\n",
      "Não Existe Solução!\n",
      "Secção inicial não aguentou as solicitações\n",
      "Não Existe Solução!\n",
      "Secção inicial não aguentou as solicitações\n",
      "Não Existe Solução!\n",
      "Secção inicial não aguentou as solicitações\n",
      "Não Existe Solução!\n",
      "Secção inicial não aguentou as solicitações\n",
      "Não Existe Solução!\n",
      "Secção inicial não aguentou as solicitações\n",
      "Não Existe Solução!\n",
      "Secção inicial não aguentou as solicitações\n",
      "Não Existe Solução!\n",
      "Secção inicial não aguentou as solicitações\n",
      "Não Existe Solução!\n",
      "Secção inicial não aguentou as solicitações\n",
      "Não Existe Solução!\n",
      "Secção inicial não aguentou as solicitações\n",
      "Não Existe Solução!\n",
      "Secção inicial não aguentou as solicitações\n",
      "Não Existe Solução!\n",
      "Secção inicial não aguentou as solicitações\n",
      "Não Existe Solução!\n",
      "Secção inicial não aguentou as solicitações\n",
      "Não Existe Solução!\n",
      "Secção inicial não aguentou as solicitações\n",
      "Não Existe Solução!\n",
      "Secção inicial não aguentou as solicitações\n",
      "Não Existe Solução!\n",
      "Secção inicial não aguentou as solicitações\n",
      "Não Existe Solução!\n",
      "Secção inicial não aguentou as solicitações\n",
      "Não Existe Solução!\n",
      "Secção inicial não aguentou as solicitações\n",
      "Não Existe Solução!\n",
      "Secção inicial não aguentou as solicitações\n",
      "Não Existe Solução!\n",
      "Secção inicial não aguentou as solicitações\n",
      "Não Existe Solução!\n",
      "Secção inicial não aguentou as solicitações\n",
      "Não Existe Solução!\n",
      "Secção inicial não aguentou as solicitações\n",
      "Não Existe Solução!\n",
      "Secção inicial não aguentou as solicitações\n",
      "Não Existe Solução!\n",
      "Secção inicial não aguentou as solicitações\n",
      "Não Existe Solução!\n",
      "Secção inicial não aguentou as solicitações\n",
      "Não Existe Solução!\n",
      "Secção inicial não aguentou as solicitações\n",
      "Não Existe Solução!\n",
      "Secção inicial não aguentou as solicitações\n",
      "Não Existe Solução!\n",
      "Secção inicial não aguentou as solicitações\n",
      "Não Existe Solução!\n",
      "Secção inicial não aguentou as solicitações\n",
      "Não Existe Solução!\n",
      "Secção inicial não aguentou as solicitações\n",
      "Não Existe Solução!\n",
      "Secção inicial não aguentou as solicitações\n",
      "Não Existe Solução!\n",
      "Secção inicial não aguentou as solicitações\n",
      "Não Existe Solução!\n",
      "Secção inicial não aguentou as solicitações\n",
      "Não Existe Solução!\n",
      "Secção inicial não aguentou as solicitações\n",
      "Não Existe Solução!\n",
      "Secção inicial não aguentou as solicitações\n",
      "Não Existe Solução!\n",
      "Secção inicial não aguentou as solicitações\n",
      "Não Existe Solução!\n",
      "Secção inicial não aguentou as solicitações\n",
      "Não Existe Solução!\n",
      "Secção inicial não aguentou as solicitações\n",
      "Não Existe Solução!\n",
      "Secção inicial não aguentou as solicitações\n",
      "Não Existe Solução!\n",
      "Secção inicial não aguentou as solicitações\n",
      "Não Existe Solução!\n",
      "Secção inicial não aguentou as solicitações\n",
      "Não Existe Solução!\n",
      "Secção inicial não aguentou as solicitações\n",
      "Não Existe Solução!\n",
      "Secção inicial não aguentou as solicitações\n"
     ]
    },
    {
     "data": {
      "text/plain": [
       "[<matplotlib.lines.Line2D at 0x7f4c33036410>]"
      ]
     },
     "execution_count": 48,
     "metadata": {},
     "output_type": "execute_result"
    },
    {
     "data": {
      "image/png": "[encoded data removed]",
      "text/plain": [
       "<Figure size 640x480 with 1 Axes>"
      ]
     },
     "metadata": {},
     "output_type": "display_data"
    }
   ],
   "source": [
    "[Npt,Mpt,fpt]=Plot_Trajetoria_elui(nr, concreto, steel, yc, Area, b, h, yt, yb, m, f_inic, L, tol_f,0.01,1)\n",
    "plt.plot(Npt[:]/(concreto.sigma_cd * b * h),(Mpt[:] + Npt[:]*fpt[:])/(concreto.sigma_cd * b * h * h ), '+')"
   ]
  }
 ],
 "metadata": {
  "kernelspec": {
   "display_name": "Python 3",
   "language": "python",
   "name": "python3"
  },
  "language_info": {
   "codemirror_mode": {
    "name": "ipython",
    "version": 3
   },
   "file_extension": ".py",
   "mimetype": "text/x-python",
   "name": "python",
   "nbconvert_exporter": "python",
   "pygments_lexer": "ipython3",
   "version": "3.10.12"
  }
 },
 "nbformat": 4,
 "nbformat_minor": 2
}
